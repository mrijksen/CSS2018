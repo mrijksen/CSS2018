{
 "cells": [
  {
   "cell_type": "code",
   "execution_count": null,
   "metadata": {
    "scrolled": true
   },
   "outputs": [],
   "source": [
    "import networkx as nx\n",
    "import numpy as np\n",
    "import matplotlib.pyplot as plt\n",
    "from networkx.utils.random_sequence import (powerlaw_sequence)\n",
    "\n",
    "# import networkx.utils.create_degree_sequence as create_degree_sequence\n",
    "%matplotlib notebook"
   ]
  },
  {
   "cell_type": "code",
   "execution_count": null,
   "metadata": {},
   "outputs": [],
   "source": [
    "def create_degree_sequence(n, sfunction=None, max_tries=50, **kwds):\n",
    "    \"\"\" Attempt to create a valid degree sequence of length n using\n",
    "    specified function sfunction(n,**kwds).\n",
    "\n",
    "    Parameters\n",
    "    ----------\n",
    "    n : int\n",
    "        Length of degree sequence = number of nodes\n",
    "    sfunction: function\n",
    "        Function which returns a list of n real or integer values.\n",
    "        Called as \"sfunction(n,**kwds)\".\n",
    "    max_tries: int\n",
    "        Max number of attempts at creating valid degree sequence.\n",
    "\n",
    "    Notes\n",
    "    -----\n",
    "    Repeatedly create a degree sequence by calling sfunction(n,**kwds)\n",
    "    until achieving a valid degree sequence. If unsuccessful after\n",
    "    max_tries attempts, raise an exception.\n",
    "    \n",
    "    For examples of sfunctions that return sequences of random numbers,\n",
    "    see networkx.Utils.\n",
    "\n",
    "    Examples\n",
    "    --------\n",
    "    >>> from networkx.utils import uniform_sequence, create_degree_sequence\n",
    "    >>> seq=create_degree_sequence(10,uniform_sequence)\n",
    "    \"\"\"\n",
    "    tries=0\n",
    "    max_deg=n\n",
    "    while tries < max_tries:\n",
    "        trialseq=sfunction(n,**kwds)\n",
    "        # round to integer values in the range [0,max_deg]\n",
    "        seq=[min(max_deg, max( int(round(s)),0 )) for s in trialseq]\n",
    "        # if graphical return, else throw away and try again\n",
    "        if nx.is_graphical(seq):\n",
    "            return seq\n",
    "        tries+=1\n",
    "    raise nx.NetworkXError(\\\n",
    "          \"Exceeded max (%d) attempts at a valid sequence.\"%max_tries)"
   ]
  },
  {
   "cell_type": "code",
   "execution_count": null,
   "metadata": {},
   "outputs": [],
   "source": [
    "#### code from http://nbviewer.jupyter.org/gist/Midnighter/248f1a5d8c21b39525ae\n",
    "\n",
    "exp = 2.9\n",
    "seed = 1223445\n",
    "num = 1000\n",
    "print(\"exponent = -{0:.2f}\".format(exp))\n",
    "sequence = create_degree_sequence(num, powerlaw_sequence, exponent=exp)\n",
    "graph = nx.configuration_model(sequence, seed=seed)\n",
    "# count parallel edges and avoid counting A-B as well as B-A\n",
    "num_par = sum(len(graph[node][neigh]) for node in graph for neigh in graph.neighbors(node)) // 2\n",
    "print(\"graph has {0:d} parallel edges\".format(num_par))\n",
    "loops = graph.selfloop_edges()\n",
    "# remove them\n",
    "graph = nx.Graph(graph)\n",
    "graph.remove_edges_from(loops)\n",
    "# get largest connected component\n",
    "# unfortunately, the iterator over the components is not guaranteed to be sorted by size\n",
    "components = sorted(nx.connected_components(graph), key=len, reverse=True)\n",
    "lcc = graph.subgraph(components[0])\n",
    "print(\"size of largest connected component = {0:d}\".format(len(lcc)))\n",
    "# new degree sequence\n",
    "simple_seq = [deg for (node, deg) in lcc.degree()]\n",
    "# create histograms\n",
    "counts = np.bincount(sequence)\n",
    "mask = (counts > 0)\n",
    "plt.figure()\n",
    "plt.plot(np.arange(len(counts))[mask], counts[mask] / counts.sum(), \"o\", label=\"MultiGraph\")\n",
    "simple_counts = np.bincount(simple_seq)\n",
    "mask = (simple_counts > 0)\n",
    "# distribution is shifted for visibility\n",
    "plt.plot(np.arange(len(simple_counts))[mask], simple_counts[mask] / simple_counts.sum() / 10.0,\n",
    "         \"o\", label=\"Simple LCC\")\n",
    "x = np.arange(1, len(counts))\n",
    "plt.plot(x, np.power(x, -exp))\n",
    "plt.xlabel(r\"Degree $k$\")\n",
    "plt.xscale(\"log\")\n",
    "plt.ylabel(r\"Probability $P(k)$\")\n",
    "plt.yscale(\"log\")\n",
    "plt.title(r\"$N = {0:d}, \\quad \\lambda = {1:.2f}$\".format(num, exp))\n",
    "plt.legend(loc=\"best\")\n",
    "plt.show()"
   ]
  },
  {
   "cell_type": "code",
   "execution_count": null,
   "metadata": {},
   "outputs": [],
   "source": [
    "plt.figure()\n",
    "pos = nx.spring_layout(graph)\n",
    "nx.draw(G, pos, node_color='b', node_size=50, with_labels=False)\n",
    "plt.show()"
   ]
  },
  {
   "cell_type": "code",
   "execution_count": null,
   "metadata": {},
   "outputs": [],
   "source": [
    "class Person():\n",
    "    def __init__(self,i):\n",
    "        # time_since_infection equals -1 if not infected\n",
    "        self.identifier = i\n",
    "        self.disease_status = 0\n",
    "        self.time_since_infection = -1\n",
    "    \n",
    "    def __eq__(self, other):\n",
    "        if isinstance(other, int):\n",
    "            return self.disease_status == other"
   ]
  },
  {
   "cell_type": "code",
   "execution_count": null,
   "metadata": {},
   "outputs": [],
   "source": [
    "print(Person(i) == 0)\n",
    "\n",
    "for i in range(len(graph)):\n",
    "    graph.node[i][\"Data\"] = Person(i)"
   ]
  },
  {
   "cell_type": "code",
   "execution_count": null,
   "metadata": {},
   "outputs": [],
   "source": [
    "list(graph.nodes(data=\"data\"))"
   ]
  },
  {
   "cell_type": "code",
   "execution_count": null,
   "metadata": {},
   "outputs": [],
   "source": []
  }
 ],
 "metadata": {
  "kernelspec": {
   "display_name": "Python 3",
   "language": "python",
   "name": "python3"
  },
  "language_info": {
   "codemirror_mode": {
    "name": "ipython",
    "version": 3
   },
   "file_extension": ".py",
   "mimetype": "text/x-python",
   "name": "python",
   "nbconvert_exporter": "python",
   "pygments_lexer": "ipython3",
   "version": "3.5.0"
  }
 },
 "nbformat": 4,
 "nbformat_minor": 2
}

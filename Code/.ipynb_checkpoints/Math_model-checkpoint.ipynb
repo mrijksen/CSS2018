{
 "cells": [
  {
   "cell_type": "code",
   "execution_count": null,
   "metadata": {},
   "outputs": [],
   "source": [
    "import numpy as np\n",
    "import matplotlib.pyplot as plt\n",
    "import scipy as sp\n",
    "\n",
    "\n",
    "%matplotlib notebook"
   ]
  },
  {
   "cell_type": "code",
   "execution_count": null,
   "metadata": {},
   "outputs": [],
   "source": [
    "def SMM(i, j, N, epsilon, pi):\n",
    "    return epsilon[i] * (i == j) + (1 - epsilon[i]) * pi[j] * N[j] / np.sum(pi * N)\n",
    "\n",
    "\n",
    "def dSidt(S, Ires, Isen, N, pi, i, alpha, beta, gamma, epsilon, phi, mu, D):\n",
    "    nu = (1 - phi[i]) / D[i]\n",
    "    tau = phi[i] / D[i]\n",
    "\n",
    "    dSi = -S[i] * pi[i] * sum([\n",
    "        SMM(i, j, N, epsilon, pi) * beta[i, j] * (Isen[j] + Ires[j]) / N[j]\n",
    "        for j in [0, 1]\n",
    "    ]) + nu * (Isen[i] + Ires[i]) + tau * (1 - mu) * Isen[i] - alpha * (\n",
    "        S[i] + N[i]) - gamma * S[i] + gamma * N[i] * sum(S)\n",
    "    \n",
    "    return dSi"
   ]
  },
  {
   "cell_type": "code",
   "execution_count": null,
   "metadata": {},
   "outputs": [],
   "source": [
    "S = np.array([13,20])\n",
    "Ires = np.array([13,20])\n",
    "Isen = np.array([13,20])\n",
    "N = np.array([13,20])\n",
    "pi = np.array([13,20])\n",
    "\n",
    "\n",
    "\n",
    "alpha = 1/29\n",
    "beta = np.array([[1,1],[1,1]])###\n",
    "gamma = 1\n",
    "epsilon = np.array([0.57,0.73])\n",
    "phi = np.array([0.64,0.5])\n",
    "mu = 1e-3\n",
    "D = np.array([0.19,0.55])\n",
    "\n",
    "print(dSidt(S, Ires, Isen, N, pi, 0, alpha, beta, gamma, epsilon, phi, mu, D))\n",
    "print(dSidt(S, Ires, Isen, N, pi, 1, alpha, beta, gamma, epsilon, phi, mu, D))"
   ]
  },
  {
   "cell_type": "code",
   "execution_count": null,
   "metadata": {},
   "outputs": [],
   "source": []
  }
 ],
 "metadata": {
  "kernelspec": {
   "display_name": "Python 3",
   "language": "python",
   "name": "python3"
  },
  "language_info": {
   "codemirror_mode": {
    "name": "ipython",
    "version": 3
   },
   "file_extension": ".py",
   "mimetype": "text/x-python",
   "name": "python",
   "nbconvert_exporter": "python",
   "pygments_lexer": "ipython3",
   "version": "3.5.0"
  }
 },
 "nbformat": 4,
 "nbformat_minor": 2
}

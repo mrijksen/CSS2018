{
 "cells": [
  {
   "cell_type": "code",
   "execution_count": null,
   "metadata": {
    "slideshow": {
     "slide_type": "skip"
    }
   },
   "outputs": [],
   "source": [
    "from IPython.display import Image\n",
    "from IPython.core.display import HTML "
   ]
  },
  {
   "cell_type": "code",
   "execution_count": null,
   "metadata": {
    "slideshow": {
     "slide_type": "skip"
    }
   },
   "outputs": [],
   "source": [
    "Image(filename= \"headline.png\")"
   ]
  },
  {
   "cell_type": "markdown",
   "metadata": {
    "slideshow": {
     "slide_type": "slide"
    }
   },
   "source": [
    "# Introduction\n",
    "\n",
    "* Antimicrobial resistance is becoming a worldwide problem\n",
    "\n",
    "* Many pathogens are becoming resistant for many different types of antibiotics\n",
    "\n",
    "* The institute of advanced studies (IAS) is doing research to the spreading of gonorrhoea in Amsterdam\n",
    "\n",
    "* For gonorrhoeae there might be a new antibiotic available within years\n",
    "\n",
    "* It is thus important to find a suitable management plan to prevent new resistance"
   ]
  },
  {
   "cell_type": "markdown",
   "metadata": {
    "slideshow": {
     "slide_type": "slide"
    }
   },
   "source": [
    "# Mathematical model \n",
    "\n",
    "* Aim of our research was to build a network model to model the disease spreading\n",
    "* Our network models are based on an existing mathematical model by Fingerhurth et al. (2006) [1]\n",
    "    * Simple network model\n",
    "    * Stochastic network"
   ]
  },
  {
   "cell_type": "markdown",
   "metadata": {
    "slideshow": {
     "slide_type": "slide"
    }
   },
   "source": [
    "# Why use a network model?\n",
    "\n",
    "* Sexual network portrays the sexual inter-relationships within a group of people and it is possible to study the spread of STIs in the context of social interactions [2]\n",
    "* ODEs, in contrast, fail to capture the complexity of connections between cases\n",
    "* By using a network a heterogeneous population can be introduced, which adds more detail in the properties of individuals. This can for example be useful in identifying high-risk groups.\n",
    "* Adding this heterogeneity can have influence on the disease dynamics [3]\n",
    "* Network properties can for example derived from data, in Amsterdam this is for example possible with GGD data "
   ]
  },
  {
   "cell_type": "markdown",
   "metadata": {
    "slideshow": {
     "slide_type": "slide"
    }
   },
   "source": [
    "# Mathematical model of antibiotic resistance N. gonorrhoeae spread"
   ]
  },
  {
   "cell_type": "markdown",
   "metadata": {
    "slideshow": {
     "slide_type": "skip"
    }
   },
   "source": [
    "Below an image is shown which summarized the ODEs of [1] model in a scheme. Shown are the three different classes, susceptibles from group "
   ]
  },
  {
   "cell_type": "code",
   "execution_count": null,
   "metadata": {
    "slideshow": {
     "slide_type": "fragment"
    }
   },
   "outputs": [],
   "source": [
    "Image(filename= \"math_model.png\")"
   ]
  },
  {
   "cell_type": "markdown",
   "metadata": {
    "slideshow": {
     "slide_type": "skip"
    }
   },
   "source": [
    "### Transmission model\n",
    "\n",
    "Above an image is shown which summarizes the ODEs of [1] model in a scheme. The parameters in the model can be summarized as following:\n",
    "\n",
    "* $Sen$ and $Res$ indicate the antibitotic-sensitive and -resistand N. gonorrhoeae strains\n",
    "* $G = \\{L,H\\}$ is the set of low and high sexual activity groups, $i \\in G$\n",
    "* Each sexual activity group $N_i$ consists of:\n",
    "    * susceptible hosts $S_i$\n",
    "    * hosts infected with an antibiotic-sensitive strain, $I_{Sen_i}$\n",
    "    * hosts infected with an antibiotic-resistant strain, $I_{Res_i}$\n",
    "* Hosts are redistributed to either the same of the other sexual activity group at rate $\\gamma$\n",
    "* Hosts leave or enter the population at rate $\\alpha$\n",
    "* Susceptible hosts become infected depending on:\n",
    "    * the partner change rate, $\\pi_i$\n",
    "    * the transmission probability per partnership, $\\beta_{ij}$\n",
    "    * the sexual mixing matrix $\\rho_{ij}$ \n",
    "* Hosts infected with an antibiotic-sensitive strain can:\n",
    "    * recover spontaneously at rate $\\nu$\n",
    "    * receive treatment at rate $\\tau$\n",
    "* Hosts receiving treatment recover at rate $\\tau(1 - \\mu)$\n",
    "* Hosts develop resistance during treatment with probability $\\mu$\n",
    "* Host infected with an antibiotic-resistance strain can only recover spontaneously at rate $\\nu$\n",
    "    \n",
    "The sexual mixing matrix describes how many partnerships are formed within and outside the host's activity group:\n",
    "\n",
    "$$ \\rho_{ij} = \\epsilon \\delta_{ij} + (1 - \\epsilon) \\frac{\\pi_j N_j}{\\sum_{k \\in G} \\pi_k N_k} $$\n",
    "\n",
    "Here, $\\delta_{ij} = 1$ if $i = j$ and 0 otherwise. Model parameters were estimated from sexual behavior data, calibrated trough model simulation or informed by literature. The parameters can be found on page 5 of [1].\n",
    "\n",
    "The differential equations are solved below for two different groups: Men having sex with men (MSM) and heterosexual men (HMW)."
   ]
  },
  {
   "cell_type": "code",
   "execution_count": null,
   "metadata": {
    "slideshow": {
     "slide_type": "skip"
    }
   },
   "outputs": [],
   "source": [
    "## imports for the math model\n",
    "import numpy as np\n",
    "import matplotlib.pyplot as plt\n",
    "import scipy as sp\n",
    "from scipy.integrate import odeint\n",
    "from math_model_functions import *\n",
    "\n",
    "## imports for the network model\n",
    "import networkx as nx\n",
    "from networkx.utils.random_sequence import (powerlaw_sequence)\n",
    "from numba import jit\n",
    "from network_model import *\n",
    "\n",
    "## imports for the stochastic network model\n",
    "from stochastic_network_model import *\n",
    "import matplotlib.lines as mlines\n",
    "\n",
    "from matplotlib import animation, rc\n",
    "from IPython.display import HTML\n",
    "rc('animation', html='jshtml')\n",
    "# import networkx.utils.create_degree_sequence as create_degree_sequence\n",
    "%matplotlib notebook\n",
    "# TODO: Change resolution of animation"
   ]
  },
  {
   "cell_type": "markdown",
   "metadata": {
    "slideshow": {
     "slide_type": "skip"
    }
   },
   "source": [
    "### MSM Parameters\n",
    "Parameters for the \"Men having sex with men group\""
   ]
  },
  {
   "cell_type": "code",
   "execution_count": null,
   "metadata": {
    "slideshow": {
     "slide_type": "skip"
    }
   },
   "outputs": [],
   "source": [
    "Nh = 5.3e-2\n",
    "N = np.array([1 - Nh, Nh])\n",
    "\n",
    "S = np.array([N[0]*0.995,N[1]*0.90])\n",
    "Ires = np.array([0, 0])\n",
    "Isen = np.array([N[0]*0.005, N[1]*0.1])\n",
    "\n",
    "pi = np.array([0.41, 30.49])\n",
    "\n",
    "\n",
    "BLL = np.array([0.42,0.59,0.77])\n",
    "BHH = np.array([0.25,0.30,0.40])\n",
    "alpha = 1 / 29\n",
    "\n",
    "\n",
    "gamma = 1\n",
    "epsilon = np.array([0.30,0.57,0.80])\n",
    "phi = np.array([0.48,0.64,0.81])\n",
    "mu = 1e-3\n",
    "D = np.array([0.14,0.19,0.25])\n",
    "\n",
    "y0 = np.concatenate((S, Ires, Isen))\n",
    "# y0 /= np.sum(y0)\n",
    "t = np.arange(0,30,0.001)\n",
    "sol_msm = []\n",
    "for i in range(3):\n",
    "    beta = np.array([[BLL[i], 1], [1, BHH[i]]])\n",
    "    beta[0, 1] = beta[1, 0] = np.sqrt(beta[0, 0] * beta[1, 1])\n",
    "    sol_msm.append(odeint(math_model, y0, t, args=(N, pi, alpha, beta, gamma, epsilon[i], phi[i], mu, D[i])))\n",
    "    \n",
    "sol_msm = np.array(sol_msm)"
   ]
  },
  {
   "cell_type": "code",
   "execution_count": null,
   "metadata": {
    "slideshow": {
     "slide_type": "skip"
    }
   },
   "outputs": [],
   "source": [
    "# calculate R0 for low and high activity groups\n",
    "R0_low = BLL[1] * pi[0] * D[1]\n",
    "R0_high = BHH[1] * pi[1] * D[1]\n",
    "\n",
    "# average R0 over population\n",
    "R0 = Nh * R0_high + (1 - Nh) * R0_low\n",
    "print(R0_low, R0_high)"
   ]
  },
  {
   "cell_type": "markdown",
   "metadata": {
    "slideshow": {
     "slide_type": "skip"
    }
   },
   "source": [
    "### HMW Parameters\n",
    "Parameters for the heterosexual men"
   ]
  },
  {
   "cell_type": "code",
   "execution_count": null,
   "metadata": {
    "slideshow": {
     "slide_type": "skip"
    }
   },
   "outputs": [],
   "source": [
    "Nh = 6.3e-2\n",
    "N = np.array([1 - Nh, Nh])\n",
    "\n",
    "S = np.array([N[0]*0.995,N[1]*0.90])\n",
    "Ires = np.array([0, 0])\n",
    "Isen = np.array([N[0]*0.005, N[1]*0.1])\n",
    "\n",
    "pi = np.array([0.25, 4.57])\n",
    "\n",
    "\n",
    "alpha = 1 / 29\n",
    "BLL = np.array([0.79,0.87,0.94])\n",
    "BHH = np.array([0.63,0.72,0.81])\n",
    "\n",
    "gamma = 1\n",
    "epsilon = np.array([0.53,0.73,0.89])\n",
    "phi = np.array([0.36,0.50,0.66])\n",
    "mu = 1e-3\n",
    "D = np.array([0.46,0.55,0.66])\n",
    "\n",
    "y0 = np.concatenate((S, Ires, Isen))\n",
    "# y0 /= np.sum(y0)\n",
    "t = np.arange(0,30,0.001)\n",
    "sol_hmw = []\n",
    "for i in range(3):\n",
    "    beta = np.array([[BLL[i], 1], [1, BHH[i]]])\n",
    "    beta[0, 1] = beta[1, 0] = np.sqrt(beta[0, 0] * beta[1, 1])\n",
    "    sol_hmw.append(odeint(math_model, y0, t, args=(N, pi, alpha, beta, gamma, epsilon[i], phi[i], mu, D[i])))\n",
    "    \n",
    "sol_hmw = np.array(sol_hmw)"
   ]
  },
  {
   "cell_type": "code",
   "execution_count": null,
   "metadata": {
    "slideshow": {
     "slide_type": "skip"
    }
   },
   "outputs": [],
   "source": [
    "# calculate R0 for low and high activity groups\n",
    "R0_low = BLL[1] * pi[0] * D[1]\n",
    "R0_high = BHH[1] * pi[1] * D[1]\n",
    "\n",
    "# average R0 over population\n",
    "R0 = Nh * R0_high + (1 - Nh) * R0_low\n",
    "print(R0_low, R0_high)"
   ]
  },
  {
   "cell_type": "markdown",
   "metadata": {
    "slideshow": {
     "slide_type": "skip"
    }
   },
   "source": [
    "### Figures and plots"
   ]
  },
  {
   "cell_type": "code",
   "execution_count": null,
   "metadata": {
    "slideshow": {
     "slide_type": "skip"
    }
   },
   "outputs": [],
   "source": [
    "plt.figure()\n",
    "# plt.plot(t, sol_msm[1,:, 0], label='$S_{low}$')\n",
    "# plt.plot(t, sol_msm[1,:, 1], label='$S_{high}$')\n",
    "plt.plot(t, sol_msm[1,:, 2], label='$I_{res, low}$')\n",
    "plt.plot(t, sol_msm[1,:, 3], label='$I_{res, high}$')\n",
    "plt.plot(t, sol_msm[1,:, 4], label='$I_{sen, low}$')\n",
    "plt.plot(t, sol_msm[1,:, 5], label='$I_{sen, high}$')\n",
    "\n",
    "plt.legend(loc='best')\n",
    "plt.xlabel('t (years)')\n",
    "plt.title(\"Epidemic curve MSM group\")\n",
    "plt.ylabel(\"Fraction of population\")\n",
    "# plt.ylim(0, 1)\n",
    "plt.xlim(0, 10)\n",
    "plt.grid()\n",
    "plt.show()"
   ]
  },
  {
   "cell_type": "code",
   "execution_count": null,
   "metadata": {},
   "outputs": [],
   "source": [
    "plt.figure()\n",
    "# plt.plot(t, sol_msm[1,:, 0], label='$S_{low}$')\n",
    "# plt.plot(t, sol_msm[1,:, 1], label='$S_{high}$')\n",
    "plt.plot(t, sol_hmw[1,:, 2], label='$I_{res, low}$')\n",
    "plt.plot(t, sol_hmw[1,:, 3], label='$I_{res, high}$')\n",
    "plt.plot(t, sol_hmw[1,:, 4], label='$I_{sen, low}$')\n",
    "plt.plot(t, sol_hmw[1,:, 5], label='$I_{sen, high}$')\n",
    "\n",
    "plt.legend(loc='best')\n",
    "plt.xlabel('t (years)')\n",
    "plt.title(\"Epidemic curve HMW group\")\n",
    "plt.ylabel(\"Fraction of population\")\n",
    "# plt.ylim(0, 1)\n",
    "plt.xlim(0, 30)\n",
    "plt.grid()\n",
    "plt.show()"
   ]
  },
  {
   "cell_type": "code",
   "execution_count": null,
   "metadata": {
    "slideshow": {
     "slide_type": "slide"
    }
   },
   "outputs": [],
   "source": [
    "plt.figure()\n",
    "ratio_sol_msm = (sol_msm[:,:, 2] + sol_msm[:,:, 3])/(sol_msm[:,:, 2] + sol_msm[:,:, 3] + sol_msm[:,:, 4] + sol_msm[:,:, 5])\n",
    "plt.plot(t, ratio_sol_msm[1,:], label = \"MSM\", c = \"g\",linewidth=1)\n",
    "plt.fill_between(t,ratio_sol_msm[0,:], ratio_sol_msm[2,:], alpha=0.5, facecolor = \"g\")\n",
    "ratio_sol_hmw = (sol_hmw[:,:, 2] + sol_hmw[:,:, 3])/(sol_hmw[:,:, 2] + sol_hmw[:,:, 3] + sol_hmw[:,:, 4] + sol_hmw[:,:, 5])\n",
    "plt.plot(t, ratio_sol_hmw[1,:], label = \"HMW\", c = \"b\",linewidth=1)\n",
    "plt.fill_between(t,ratio_sol_hmw[0,:], ratio_sol_hmw[2,:], alpha=0.5, facecolor = \"b\")\n",
    "plt.legend(loc='best')\n",
    "\n",
    "plt.xlabel('t (years)')\n",
    "plt.ylabel(\"Fraction of infected individuals\")\n",
    "plt.grid()\n",
    "plt.ylim(0,1)\n",
    "plt.show()"
   ]
  },
  {
   "cell_type": "markdown",
   "metadata": {
    "slideshow": {
     "slide_type": "slide"
    }
   },
   "source": [
    "# Simple Contact network\n",
    "\n",
    "- We used a simplified version of the rules in the mathematical model\n",
    "- The network is a random erdos renyi network with 500 nodes and an average degree of 10\n",
    "\n",
    "The parameters\n",
    "- Spontaneous healing rate $\\nu$\n",
    "- Treatment rate $\\tau$\n",
    "- Hosts develop resistance during treatment with probability $\\mu$\n",
    "- Transmision probability $\\beta$"
   ]
  },
  {
   "cell_type": "markdown",
   "metadata": {
    "slideshow": {
     "slide_type": "subslide"
    }
   },
   "source": [
    "# Model\n",
    "\n",
    "- The values for $\\tau$ , $\\nu$ and $\\mu$ are from the mathematical model.\n",
    "- $\\beta$ < K > (1 - p_inf) = 1\n",
    "\n",
    "At each timestep each infected node can do the following:\n",
    "- It recovers spontaneously\n",
    "- It recovers by threatment if not resistant\n",
    "- It can infect each neighbours "
   ]
  },
  {
   "cell_type": "markdown",
   "metadata": {},
   "source": [
    "## Build a network"
   ]
  },
  {
   "cell_type": "code",
   "execution_count": null,
   "metadata": {},
   "outputs": [],
   "source": [
    "# # create power law graph\n",
    "# exp = 2.4\n",
    "# seed = 123456789\n",
    "# num = 1000\n",
    "# graph = power_law_graph(exp, num, seed)\n",
    "\n",
    "# or, create random network\n",
    "degree = 10\n",
    "num = 500\n",
    "p = degree/num\n",
    "seed = 1234\n",
    "graph = random_network(p, num, seed)\n",
    "\n",
    "# compute average degree\n",
    "degrees = dict(graph.degree())\n",
    "sum_of_edges = sum(degrees.values())\n",
    "average_deg = sum_of_edges / len(degrees)\n",
    "print(average_deg)\n",
    "\n",
    "# compute r0 (TODO)"
   ]
  },
  {
   "cell_type": "code",
   "execution_count": null,
   "metadata": {},
   "outputs": [],
   "source": [
    "plt.figure()\n",
    "pos = nx.spring_layout(graph)\n",
    "nx.draw(graph, pos, node_color='b', node_size=10, with_labels=False)\n",
    "plt.show()"
   ]
  },
  {
   "cell_type": "markdown",
   "metadata": {},
   "source": [
    "## Implementation of disease spreading"
   ]
  },
  {
   "cell_type": "code",
   "execution_count": null,
   "metadata": {},
   "outputs": [],
   "source": [
    "# set person class to each node\n",
    "for i in range(len(graph)):\n",
    "    graph.node[i][\"Data\"] = Individual(i)\n",
    "\n",
    "# create set of infecteds, initialize with 10 infecteds\n",
    "init = np.random.choice(len(graph), 10, replace=False)\n",
    "\n",
    "# time steps\n",
    "t = 0\n",
    "t_tot = 20\n",
    "time_step = 365\n",
    "dt = 1 / (time_step)\n",
    "\n",
    "# constants of model\n",
    "D = np.array([0.19,0.55]) * time_step\n",
    "mu = 1e-3\n",
    "PHI = [0.65, 0.50]\n",
    "BETA = [0.59, 0.87]\n",
    "\n",
    "# keep track of infecteds and steps\n",
    "num_steps = int(t_tot / dt)\n",
    "num_infected = np.zeros((2, num_steps))\n",
    "num_res = np.zeros((2, num_steps))\n",
    "\n",
    "\n",
    "p_inf = 0.8\n",
    "# iterate over sextypes (MSM and HMW)\n",
    "for sextype in range(2):\n",
    "    phi = PHI[sextype]\n",
    "    beta = BETA[sextype]\n",
    "    nu = (1 - phi)/D[sextype]\n",
    "    tau = phi/D[sextype]\n",
    "    beta = 1-(1-1/(average_deg*(1-p_inf)))**(nu)\n",
    "    num_res[sextype,:], num_infected[sextype,:], graph = network_model(beta, tau, nu, mu, init, num_steps, copy.deepcopy(graph), True)"
   ]
  },
  {
   "cell_type": "markdown",
   "metadata": {
    "slideshow": {
     "slide_type": "slide"
    }
   },
   "source": [
    "## The dynamics of the model"
   ]
  },
  {
   "cell_type": "code",
   "execution_count": null,
   "metadata": {
    "slideshow": {
     "slide_type": "fragment"
    }
   },
   "outputs": [],
   "source": [
    "# plot number of infecteds\n",
    "t = np.linspace(0,t_tot, num_steps)    \n",
    "plt.figure()\n",
    "print(\"Mean number of infecteds:\", np.mean(num_infected))\n",
    "plt.plot(t, num_infected[0,:], label='all infecteds MSM')\n",
    "plt.plot(t, num_res[0,:], label='resistant infecteds MSM')\n",
    "plt.plot(t, num_infected[1,:], label='all infecteds HMW')\n",
    "plt.xlabel(\"Time (years)\")\n",
    "plt.ylabel(\"number of people\")\n",
    "plt.plot(t, num_res[1,:], label='resistant infecteds HMW')\n",
    "plt.legend()\n",
    "plt.show()\n"
   ]
  },
  {
   "cell_type": "code",
   "execution_count": null,
   "metadata": {
    "slideshow": {
     "slide_type": "fragment"
    }
   },
   "outputs": [],
   "source": [
    "plt.figure()\n",
    "plt.plot(t,num_res[0,:]/num_infected[0,:], label='fraction of resistant strain MSM')\n",
    "plt.plot(t,num_res[1,:]/num_infected[1,:], label='fraction of resistant strain HMW')\n",
    "# plt.plot(num_res)\n",
    "plt.xlabel(\"Time (years)\")\n",
    "plt.ylabel(\"Fraction of infected individuals\")\n",
    "plt.legend()\n",
    "plt.show()"
   ]
  },
  {
   "cell_type": "markdown",
   "metadata": {
    "slideshow": {
     "slide_type": "slide"
    }
   },
   "source": [
    "## Animation"
   ]
  },
  {
   "cell_type": "code",
   "execution_count": null,
   "metadata": {
    "slideshow": {
     "slide_type": "fragment"
    }
   },
   "outputs": [],
   "source": [
    "# set person class to each node\n",
    "for i in range(len(graph)):\n",
    "    graph.node[i][\"Data\"] = Individual(i)\n",
    "\n",
    "# create set of infecteds, initialize with 10 infecteds\n",
    "init = np.random.choice(len(graph), 10, replace=False)\n",
    "\n",
    "# time\n",
    "t = 0\n",
    "t_tot = 5\n",
    "time_step = 365\n",
    "dt = 1 / (time_step)\n",
    "\n",
    "# constants of model\n",
    "D = np.array([0.19,0.55]) * time_step\n",
    "mu = 1e-3\n",
    "PHI = [0.65, 0.50]\n",
    "BETA = [0.59, 0.87]\n",
    "\n",
    "# choose MSM or HMW to model\n",
    "sextype = 0\n",
    "phi = PHI[sextype]\n",
    "beta = BETA[sextype]\n",
    "nu = (1 - phi)/D[sextype]\n",
    "tau = phi/D[sextype]\n",
    "beta = 1-(1-1/(average_deg*(1-p_inf)))**(nu)\n",
    "\n",
    "# initial state\n",
    "_, _, graph = network_model(beta, tau, nu, mu, init, 0, graph, doInit=True, disable_progress=True)\n",
    "\n",
    "# get values of disease status\n",
    "values = []\n",
    "for j in range(len(graph.nodes())):\n",
    "    if graph.node[j][\"Data\"].disease_status == 0:\n",
    "        values.append(\"Black\")\n",
    "    elif graph.node[j][\"Data\"].disease_status == 1:\n",
    "        values.append(\"Blue\")\n",
    "    elif graph.node[j][\"Data\"].disease_status == 2:\n",
    "        values.append(\"Red\")\n",
    "        \n",
    "# create figure and set axes\n",
    "fig = plt.figure(figsize = (10,5))\n",
    "ax1 = fig.add_subplot(121)\n",
    "ax2 = fig.add_subplot(122)\n",
    "im1, = ax2.plot([], [], c = 'b', label='all infecteds MSM')\n",
    "im2, = ax2.plot([], [], c = 'r', label='resistant infecteds MSM')\n",
    "ax2.legend()\n",
    "ax2.set_xlim(0,t_tot)\n",
    "ax2.set_ylim(0,num)\n",
    "\n",
    "# initialize\n",
    "pos = nx.spring_layout(graph) \n",
    "plt.close()\n",
    "ani_step = 365//5\n",
    "frames = (t_tot*365)//ani_step\n",
    "num_infected = np.zeros(ani_step*frames)\n",
    "num_res = np.zeros(ani_step*frames)\n",
    "\n",
    "# update function for animation\n",
    "def update(i):\n",
    "    if i<1:\n",
    "        temp_res, temp_infected, _ = network_model(beta, tau, nu, mu, init, 1, graph, doInit=False, disable_progress=True)\n",
    "    else:\n",
    "        temp_res, temp_infected, _ = network_model(beta, tau, nu, mu, init, ani_step, graph, doInit=False, disable_progress=True)\n",
    "    num_infected[i*ani_step:(i+1)*ani_step] = temp_infected\n",
    "    num_res[i*ani_step:(i+1)*ani_step] = temp_res\n",
    "    t = np.linspace(0,i*ani_step/365, i*ani_step) \n",
    "    im1.set_data(t, num_infected[:i*ani_step])\n",
    "    im2.set_data(t, num_res[:i*ani_step])\n",
    "    ax1.clear()\n",
    "    \n",
    "    # solution at step i\n",
    "    values = []\n",
    "    for j in range(len(graph.nodes())):\n",
    "        if graph.node[j][\"Data\"].disease_status == 0:\n",
    "            values.append(\"Black\")\n",
    "        elif graph.node[j][\"Data\"].disease_status == 1:\n",
    "            values.append(\"Blue\")\n",
    "        elif graph.node[j][\"Data\"].disease_status == 2:\n",
    "            values.append(\"Red\")\n",
    "    nx.draw(graph, pos=pos, node_color=values, node_size=10, ax=ax1, clim = 2)\n",
    "    \n",
    "    # Scale plot ax\n",
    "    ax1.set_title(\"Frame %d:    \"%(i+1), fontweight=\"bold\")\n",
    "    ax1.set_xticks([])\n",
    "    ax1.set_yticks([])\n",
    "    \n",
    "# animate!\n",
    "animation.FuncAnimation(fig, update, frames=frames, interval=100, repeat=True)"
   ]
  },
  {
   "cell_type": "markdown",
   "metadata": {
    "slideshow": {
     "slide_type": "slide"
    }
   },
   "source": [
    "# Improvements\n",
    "\n",
    "- with lower beta the sensetive population dies to quickly\n",
    "- other types of networks that beter models reality"
   ]
  },
  {
   "cell_type": "markdown",
   "metadata": {
    "slideshow": {
     "slide_type": "slide"
    }
   },
   "source": [
    "# Stochastic network model "
   ]
  },
  {
   "cell_type": "markdown",
   "metadata": {
    "slideshow": {
     "slide_type": "subslide"
    }
   },
   "source": [
    "The stochastic network model is based on an existing model by Kretzschmar, M. et al. (1996) [4]\n",
    "\n",
    "The system consists of Persons defined by:\n",
    "- Gender (male / female)\n",
    "- Age (15 - 64)\n",
    "- Sexual activity (high / low)\n",
    "- Disease status (uninfected or (non-)resistant (a)symptomatic)\n",
    "\n",
    "During each timestep, Partnerships are formed between two Persons. A Partnership is defined by:\n",
    "- Type (casual or steady)\n",
    "- The two Persons involved\n",
    "\n",
    "The sexual contact network is therefore dynamic in time"
   ]
  },
  {
   "cell_type": "markdown",
   "metadata": {
    "slideshow": {
     "slide_type": "subslide"
    }
   },
   "source": [
    "Each timestep of the model consists of seven parts:\n",
    "<ol>\n",
    "    <li>Partnership formation</li>\n",
    "    <li>Disease transmission</li>\n",
    "    <li>Separation of partnerships</li>\n",
    "    <li>Replacement</li>\n",
    "    <li>Recovery</li>\n",
    "    <li>Treatment</li>\n",
    "    <li>Advance time</li>\n",
    "</ol>"
   ]
  },
  {
   "cell_type": "markdown",
   "metadata": {
    "slideshow": {
     "slide_type": "slide"
    }
   },
   "source": [
    "## Initialize model\n",
    "\n",
    "<ol>\n",
    "    <li>Initialize 10,000 Persons of random age. 5% of Persons with age < 35 have high sexual activity</li>\n",
    "    <li>Perform 2,000 iterations to obtain the steady state</li>\n",
    "    <li>Infect 10% of the core group (high sexual activity) with non-resistant asymptomatic disease</li>\n",
    "</ol>\n",
    "\n",
    "The resistant disease enters the system through treatment; treatment will result in contracting the resistant disease with probability 0.01%"
   ]
  },
  {
   "cell_type": "code",
   "execution_count": null,
   "metadata": {
    "slideshow": {
     "slide_type": "skip"
    }
   },
   "outputs": [],
   "source": [
    "#initialize System\n",
    "s = System()\n",
    "s.set_constants()\n",
    "s.initialize()\n",
    "\n",
    "#initialize lists to store counts\n",
    "singles_list = []\n",
    "steady_list = []\n",
    "partnerships_list = []\n",
    "\n",
    "#start time steps to reach steady state\n",
    "start = time.time()\n",
    "for i in range(2000):\n",
    "    s.time_step()\n",
    "    singles_list.append(s.number_of_singles)\n",
    "    steady_list.append(s.number_of_steady)\n",
    "    partnerships_list.append(len(s.partnerships))\n",
    "\n",
    "print(\"TIME TO INITIALIZE MODEL: %.2f\"%(time.time() - start))\n",
    "\n",
    "#print core size (sexual_activity == 1)\n",
    "core_size = len(s.high_sexual_activity)\n",
    "print(\"Core size: %d\"%(core_size))\n",
    "\n",
    "#random infection of the core group\n",
    "infect = np.random.choice(list(s.high_sexual_activity),int(0.1 * core_size))\n",
    "for i in infect:\n",
    "    p = s.persons[i]\n",
    "    p.asymptomatic_infection(s)\n",
    "\n",
    "#set System time to zero\n",
    "s.time = 0"
   ]
  },
  {
   "cell_type": "markdown",
   "metadata": {
    "slideshow": {
     "slide_type": "slide"
    }
   },
   "source": [
    "### Time-evolution towards the steady state"
   ]
  },
  {
   "cell_type": "code",
   "execution_count": null,
   "metadata": {
    "slideshow": {
     "slide_type": "skip"
    }
   },
   "outputs": [],
   "source": [
    "# #print percentage of singles in the System\n",
    "# singles = len(s.singles)/len(s.persons) * 100\n",
    "# print(\"Percentage of singles: %f\"%(singles))\n",
    "\n",
    "# #print percentage having one partner\n",
    "# one_partner = 0\n",
    "# for p in s.persons:\n",
    "#     if len(p.current_partners) == 1:\n",
    "#         one_partner += 1\n",
    "# one = one_partner/len(s.persons) * 100\n",
    "# print(\"Percentage having one partner: %f\"%(one))\n",
    "# print(\"Percentage having more than one partner: %f\"%(100 - singles - one))"
   ]
  },
  {
   "cell_type": "code",
   "execution_count": null,
   "metadata": {
    "slideshow": {
     "slide_type": "skip"
    }
   },
   "outputs": [],
   "source": [
    "%%capture\n",
    "#plot change over time, reaching the steady state\n",
    "fig, ax = plt.subplots(figsize=(9,6))\n",
    "ax.plot(singles_list,label=\"number of singles\")\n",
    "ax.plot(steady_list,label=\"number of steady partnerships\")\n",
    "ax.plot(partnerships_list,label=\"number of partnerships\")\n",
    "ax.plot(len(s.persons)-np.array(singles_list),label=\"number of persons in a partnership\")\n",
    "ax.plot(np.array(partnerships_list) - np.array(steady_list),label=\"number of casual partnerships\")\n",
    "ax.set_title(\"Time-evolution of Persons and Partnerships during initialization\")\n",
    "ax.set_xlabel(\"Days\")\n",
    "ax.set_ylabel(\"Counts\")\n",
    "ax.legend();"
   ]
  },
  {
   "cell_type": "code",
   "execution_count": null,
   "metadata": {
    "slideshow": {
     "slide_type": "fragment"
    }
   },
   "outputs": [],
   "source": [
    "fig"
   ]
  },
  {
   "cell_type": "markdown",
   "metadata": {
    "slideshow": {
     "slide_type": "skip"
    }
   },
   "source": [
    "### Evolve system over time"
   ]
  },
  {
   "cell_type": "code",
   "execution_count": null,
   "metadata": {
    "slideshow": {
     "slide_type": "skip"
    }
   },
   "outputs": [],
   "source": [
    "#initialize lists\n",
    "singles_list = [s.number_of_singles]\n",
    "steady_list = [s.number_of_steady]\n",
    "partnerships_list = [len(s.partnerships)]\n",
    "symptomatic_list = [s.number_of_symptomatic]\n",
    "asymptomatic_list = [s.number_of_asymptomatic]\n",
    "res_symp_list = [s.number_of_res_symp]\n",
    "res_asymp_list = [s.number_of_res_asymp]\n",
    "\n",
    "#store starting time\n",
    "start = time.time()\n",
    "\n",
    "for i in range(12000):\n",
    "    #make a single time step\n",
    "    s.time_step()\n",
    "    \n",
    "    #append new values to lists\n",
    "    singles_list.append(s.number_of_singles)\n",
    "    steady_list.append(s.number_of_steady)\n",
    "    partnerships_list.append(len(s.partnerships))\n",
    "    symptomatic_list.append(s.number_of_symptomatic)\n",
    "    asymptomatic_list.append(s.number_of_asymptomatic)\n",
    "    res_symp_list.append(s.number_of_res_symp)\n",
    "    res_asymp_list.append(s.number_of_res_asymp)\n",
    "\n",
    "#print evaluation time\n",
    "print(time.time() - start)"
   ]
  },
  {
   "cell_type": "markdown",
   "metadata": {
    "slideshow": {
     "slide_type": "slide"
    }
   },
   "source": [
    "### Time-evolution of the population"
   ]
  },
  {
   "cell_type": "code",
   "execution_count": null,
   "metadata": {
    "slideshow": {
     "slide_type": "skip"
    }
   },
   "outputs": [],
   "source": [
    "%%capture\n",
    "#show change in counts over time\n",
    "fig, ax = plt.subplots(figsize=(9,6))\n",
    "ax.plot(singles_list,label=\"number of singles\")\n",
    "ax.plot(steady_list,label=\"number of steady partnerships\")\n",
    "ax.plot(partnerships_list,label=\"number of partnerships\")\n",
    "ax.plot(len(s.persons)-np.array(singles_list),label=\"number of persons in a partnership\")\n",
    "ax.plot(np.array(partnerships_list) - np.array(steady_list),label=\"number of casual partnerships\")\n",
    "ax.set_title(\"Evolution of the system over time\")\n",
    "ax.set_xlabel(\"Time in days\")\n",
    "ax.set_ylabel(\"Counts\")\n",
    "ax.legend();"
   ]
  },
  {
   "cell_type": "code",
   "execution_count": null,
   "metadata": {
    "slideshow": {
     "slide_type": "fragment"
    }
   },
   "outputs": [],
   "source": [
    "fig"
   ]
  },
  {
   "cell_type": "markdown",
   "metadata": {
    "slideshow": {
     "slide_type": "slide"
    }
   },
   "source": [
    "### Time-evolution of infecteds over time"
   ]
  },
  {
   "cell_type": "code",
   "execution_count": null,
   "metadata": {
    "slideshow": {
     "slide_type": "skip"
    }
   },
   "outputs": [],
   "source": [
    "%%capture\n",
    "#show change in infecteds over time\n",
    "fig,ax = plt.subplots(figsize=(9,6))\n",
    "ax.plot(symptomatic_list,label=\"symptomatically infected\")\n",
    "ax.plot(asymptomatic_list,label=\"asymptomatically infected\")\n",
    "ax.plot(res_symp_list,label=\"resistant symptomatically infected\")\n",
    "ax.plot(res_asymp_list,label=\"resistant asymptomatically infected\")\n",
    "ax.set_title(\"Evolution of infecteds over time\")\n",
    "ax.set_xlabel(\"Time in days\")\n",
    "ax.set_ylabel(\"Counts\")\n",
    "ax.legend();"
   ]
  },
  {
   "cell_type": "code",
   "execution_count": null,
   "metadata": {
    "slideshow": {
     "slide_type": "fragment"
    }
   },
   "outputs": [],
   "source": [
    "fig"
   ]
  },
  {
   "cell_type": "markdown",
   "metadata": {
    "slideshow": {
     "slide_type": "slide"
    }
   },
   "source": [
    "### Fraction of resistant infecteds over all infecteds over time"
   ]
  },
  {
   "cell_type": "code",
   "execution_count": null,
   "metadata": {
    "slideshow": {
     "slide_type": "skip"
    }
   },
   "outputs": [],
   "source": [
    "%%capture\n",
    "#show change in resistant infections over time\n",
    "res_inf = np.array(res_symp_list) + np.array(res_asymp_list)\n",
    "inf = res_inf + np.array(symptomatic_list) + np.array(asymptomatic_list)\n",
    "fig,ax = plt.subplots(figsize=(9,6))\n",
    "ax.plot(res_inf/inf)\n",
    "ax.set_title(\"Fraction of resistant infecteds over all infecteds over time\")\n",
    "ax.set_xlabel(\"Time in days\")\n",
    "ax.set_ylabel(\"Fraction of resistant infections\");"
   ]
  },
  {
   "cell_type": "code",
   "execution_count": null,
   "metadata": {
    "slideshow": {
     "slide_type": "fragment"
    }
   },
   "outputs": [],
   "source": [
    "fig"
   ]
  },
  {
   "cell_type": "markdown",
   "metadata": {
    "slideshow": {
     "slide_type": "slide"
    }
   },
   "source": [
    "### Infectiousness of the disease ($R_0$)\n",
    "\n",
    "Although the disease might seem quite infectious, simulations have shown $R_0=0.90 \\pm 2.93$ (N=1,000, 95% CI). The spread of the disease is very dependent on where the disease is started. If a person with high sexual activity is infected, it will quickly spread throughout the entire core group whereas a person with low sexual activity may only affect a select few different partners"
   ]
  },
  {
   "cell_type": "markdown",
   "metadata": {
    "slideshow": {
     "slide_type": "slide"
    }
   },
   "source": [
    "### Animation"
   ]
  },
  {
   "cell_type": "code",
   "execution_count": null,
   "metadata": {
    "slideshow": {
     "slide_type": "skip"
    }
   },
   "outputs": [],
   "source": [
    "%%capture\n",
    "#initialize System\n",
    "s = System()\n",
    "s.set_constants()\n",
    "s.initialize()\n",
    "\n",
    "#evolve to steady state\n",
    "for i in range(2000):\n",
    "    s.time_step()\n",
    "    \n",
    "#random infection of the core group\n",
    "core_size = len(s.high_sexual_activity)\n",
    "infect = np.random.choice(list(s.high_sexual_activity),int(0.1 * core_size))\n",
    "for i in infect:\n",
    "    p = s.persons[i]\n",
    "    p.asymptomatic_infection(s)\n",
    "\n",
    "#dictionary mapping disease_status to a color\n",
    "color_dict = {0:'black',1:'blue',2:'green',3:'red',4:'orange'}\n",
    "dis_dict = {0:'Uninfected',1:'Non-resistant symptomatic',\n",
    "            2:'Non-resistant asymptomatic',3:'Resistant symptomatic',\n",
    "            4:'Resistant asymptomatic'}\n",
    "\n",
    "def plot_graph(i):\n",
    "    \"\"\"\n",
    "    Draw graph for a single time step\n",
    "    \"\"\"\n",
    "    global s, pos, ax\n",
    "    \n",
    "    if i > 0:\n",
    "        for j in range(365):\n",
    "            s.time_step()\n",
    "    \n",
    "    persons = set()\n",
    "    edges_list = []\n",
    "    for identifier in s.high_sexual_activity:\n",
    "        p = s.persons[identifier]\n",
    "        for partner in p.current_partners:\n",
    "            persons.add(partner)\n",
    "            persons.add(identifier)\n",
    "            edges_list.append((identifier,partner))\n",
    "    persons_list = sorted(list(persons))\n",
    "\n",
    "    sizes = []\n",
    "    disease = []\n",
    "    for identifier in persons_list:\n",
    "        disease.append(color_dict[s.persons[identifier].disease_status])\n",
    "        sizes.append(15+30*s.persons[identifier].sexual_activity)\n",
    "\n",
    "    ax.clear()\n",
    "    G = nx.Graph()\n",
    "    G.add_nodes_from(persons_list)\n",
    "    G.add_edges_from(edges_list)\n",
    "    nx.draw(G,node_color=disease,node_size=sizes,ax=ax)\n",
    "    handles = []\n",
    "    for index in range(5):\n",
    "        handles.append(mlines.Line2D([],[],color=color_dict[index],marker='o',linestyle='None',\n",
    "                                    markersize=10,label=dis_dict[index]))\n",
    "    ax.legend(handles=handles,loc='upper left')\n",
    "    ax.set_title(\"Core group and their partners\\nT = %d years\"%i)\n",
    "\n",
    "fig,ax = plt.subplots(figsize=(10,5))\n",
    "anim = animation.FuncAnimation(fig,plot_graph,frames=34,interval=1000,repeat=False)"
   ]
  },
  {
   "cell_type": "code",
   "execution_count": null,
   "metadata": {
    "slideshow": {
     "slide_type": "fragment"
    }
   },
   "outputs": [],
   "source": [
    "anim"
   ]
  },
  {
   "cell_type": "markdown",
   "metadata": {
    "slideshow": {
     "slide_type": "skip"
    }
   },
   "source": [
    "# Determine $R_0$"
   ]
  },
  {
   "cell_type": "code",
   "execution_count": null,
   "metadata": {
    "slideshow": {
     "slide_type": "skip"
    }
   },
   "outputs": [],
   "source": [
    "#import to perform in parallel\n",
    "from joblib import Parallel, delayed\n",
    "\n",
    "#Note that R0 is very high, due to treatment. If Person A is asymptomatic and has a Partnership with Person B,\n",
    "#who contracts the symptomatic disease, Person B gets treatment. Person A is however still infectious, so Person\n",
    "#B will almost immediately contract the disease again. To 'solve' this, we convert the list of Person identifiers\n",
    "#to a set, such that infections are counted uniquely per Person.\n",
    "\n",
    "def get_R0():\n",
    "    \"\"\"\n",
    "    Gets a single sample of R0 from the System    \n",
    "    \"\"\"\n",
    "    #initialize System\n",
    "    s = System()\n",
    "    s.set_constants(r0=True)\n",
    "    s.initialize()\n",
    "\n",
    "    #evolve to steady state\n",
    "    for j in range(1000):\n",
    "        s.time_step()\n",
    "    \n",
    "    #infect Person 0\n",
    "    s.persons[0].asymptomatic_infection(s)\n",
    "    \n",
    "    #loop until Person 0 is cured\n",
    "    while not s.persons[0].disease_status == 0:\n",
    "        s.time_step()\n",
    "    \n",
    "    #return R0\n",
    "    return s.r0_infected\n",
    "\n",
    "#perform 4 jobs in parallel\n",
    "a = Parallel(n_jobs=4,verbose=5)(delayed(get_R0)() for i in range(1000))\n",
    "\n",
    "#convert lists to sets, such that we only have the unique Persons infected\n",
    "a = [len(set(x)) for x in a]\n",
    "\n",
    "#print R0 with 95% CI\n",
    "print(a)\n",
    "print(\"R_0 = %f +/- %f\"%(np.mean(a),1.96*np.std(a)))"
   ]
  },
  {
   "cell_type": "markdown",
   "metadata": {
    "slideshow": {
     "slide_type": "slide"
    }
   },
   "source": [
    "# References\n",
    "\n",
    "[1] Fingerhuth, S. M., Bonhoeffer, S., Low, N., & Althaus, C. L. (2016). Antibiotic-resistant Neisseria gonorrhoeae spread faster with more treatment, not more sexual partners. PLoS pathogens, 12(5), e1005611.\n",
    "\n",
    "[2] De, P., Singh, A. E., Wong, T., Yacoub, W., & Jolly, A. M. (2004). Sexual network analysis of a gonorrhoea outbreak. Sexually transmitted infections, 80(4), 280-285.\n",
    "\n",
    "[3] Bansal, S., Grenfell, B. T., & Meyers, L. A. (2007). When individual behaviour matters: homogeneous and network models in epidemiology. Journal of the Royal Society Interface, 4(16), 879-891.\n",
    "\n",
    "[4] Kretzschmar, M., van Duynhoven, Y. T., & Severijnen, A. J. (1996). Modeling prevention strategies for gonorrhea and chlamydia using stochastic network simulations. American Journal of Epidemiology, 144(3), 306-317."
   ]
  }
 ],
 "metadata": {
  "celltoolbar": "Slideshow",
  "kernelspec": {
   "display_name": "Python 3",
   "language": "python",
   "name": "python3"
  },
  "language_info": {
   "codemirror_mode": {
    "name": "ipython",
    "version": 3
   },
   "file_extension": ".py",
   "mimetype": "text/x-python",
   "name": "python",
   "nbconvert_exporter": "python",
   "pygments_lexer": "ipython3",
   "version": "3.5.0"
  }
 },
 "nbformat": 4,
 "nbformat_minor": 2
}

{
 "cells": [
  {
   "cell_type": "code",
   "execution_count": null,
   "metadata": {},
   "outputs": [],
   "source": [
    "import numpy as np\n",
    "import matplotlib.pyplot as plt\n",
    "import scipy as sp\n",
    "from scipy.integrate import odeint\n",
    "\n",
    "%matplotlib notebook"
   ]
  },
  {
   "cell_type": "code",
   "execution_count": null,
   "metadata": {},
   "outputs": [],
   "source": [
    "def SMM(i, j, N, epsilon, pi):\n",
    "    return epsilon * (i == j) + (1 - epsilon) * pi[j] * N[j] / np.sum(pi * N)\n",
    "\n",
    "\n",
    "def dSidt(S, Ires, Isen, N, pi, i, alpha, beta, gamma, epsilon, phi, mu, D):\n",
    "    nu = (1 - phi) / D\n",
    "    tau = phi / D\n",
    "\n",
    "    dSi = -S[i] * pi[i] * sum([\n",
    "        SMM(i, j, N, epsilon, pi) * beta[i, j] * (Isen[j] + Ires[j]) / N[j]\n",
    "        for j in [0, 1]\n",
    "    ]) + nu * (Isen[i] + Ires[i]) + tau * (1 - mu) * Isen[i] + alpha * (\n",
    "        -S[i] + N[i]) - gamma * S[i] + gamma * N[i] * sum(S)\n",
    "\n",
    "    return dSi\n",
    "\n",
    "\n",
    "def dIsenidt(S, Ires, Isen, N, pi, i, alpha, beta, gamma, epsilon, phi, mu, D):\n",
    "    nu = (1 - phi) / D\n",
    "    tau = phi / D\n",
    "\n",
    "    dIseni = S[i] * pi[i] * sum([\n",
    "        SMM(i, j, N, epsilon, pi) * beta[i, j] * Isen[j] / N[j]\n",
    "        for j in [0, 1]\n",
    "    ]) - (nu + tau + alpha + gamma) * Isen[i] + gamma * N[i] * np.sum(Isen)\n",
    "\n",
    "    return dIseni\n",
    "\n",
    "\n",
    "def dIresidt(S, Ires, Isen, N, pi, i, alpha, beta, gamma, epsilon, phi, mu, D):\n",
    "    nu = (1 - phi) / D\n",
    "    tau = phi / D\n",
    "\n",
    "    dIresi = S[i] * pi[i] * sum([\n",
    "        SMM(i, j, N, epsilon, pi) * beta[i, j] * Ires[j] / N[j]\n",
    "        for j in [0, 1]\n",
    "    ]) - (nu + alpha + gamma) * Ires[i] + tau * mu * Isen[i] + gamma * N[i] * np.sum(Ires)\n",
    "\n",
    "    return dIresi\n",
    "\n",
    "\n",
    "def model(y, t, N, pi, alpha, beta, gamma, epsilon, phi, mu, D):\n",
    "    dydt = []\n",
    "    S = y[:2]\n",
    "    Ires = y[2:4]\n",
    "    Isen = y[4:]\n",
    "\n",
    "    funcs = [dSidt, dIresidt, dIsenidt]\n",
    "\n",
    "    for func in funcs:\n",
    "        for i in range(2):\n",
    "            dydt.append(\n",
    "                func(S, Ires, Isen, N, pi, i, alpha, beta, gamma, epsilon, phi,\n",
    "                     mu, D))\n",
    "\n",
    "    return dydt"
   ]
  },
  {
   "cell_type": "code",
   "execution_count": null,
   "metadata": {},
   "outputs": [],
   "source": [
    "Nh = 5.3e-2\n",
    "N = np.array([1 - Nh, Nh])\n",
    "\n",
    "S = np.array([N[0]*0.995,N[1]*0.90])\n",
    "Ires = np.array([0, 0])\n",
    "Isen = np.array([N[0]*0.005, N[1]*0.1])\n",
    "\n",
    "pi = np.array([0.25, 4.57])\n",
    "\n",
    "alpha = 1 / 29\n",
    "beta = np.array([[0.59, 1], [1, 0.30]])\n",
    "beta[0, 1] = beta[1, 0] = np.sqrt(beta[0, 0] * beta[1, 1])\n",
    "\n",
    "gamma = 1\n",
    "epsilon = 0.57\n",
    "phi = 0.64\n",
    "mu = 1e-3\n",
    "D = 0.19\n",
    "\n",
    "print(\n",
    "    dSidt(S, Ires, Isen, N, pi, 0, alpha, beta, gamma, epsilon, phi, mu, D) +\n",
    "    dSidt(S, Ires, Isen, N, pi, 1, alpha, beta, gamma, epsilon, phi, mu, D))\n",
    "\n",
    "print(\n",
    "    dSidt(S, Ires, Isen, N, pi, 0, alpha, beta, 0, epsilon, phi, mu, D) +\n",
    "    dSidt(S, Ires, Isen, N, pi, 1, alpha, beta, 0, epsilon, phi, mu, D))"
   ]
  },
  {
   "cell_type": "code",
   "execution_count": null,
   "metadata": {},
   "outputs": [],
   "source": [
    "y0 = np.concatenate((S, Ires, Isen))\n",
    "# y0 /= np.sum(y0)\n",
    "t = np.arange(0,10,0.001)\n",
    "sol = odeint(model, y0, t, args=(N, pi, alpha, beta, gamma, epsilon, phi, mu, D))"
   ]
  },
  {
   "cell_type": "code",
   "execution_count": null,
   "metadata": {},
   "outputs": [],
   "source": [
    "plt.figure()\n",
    "plt.plot(t, sol[:, 0], label='Sl')\n",
    "plt.plot(t, sol[:, 1], label='Sh')\n",
    "plt.plot(t, sol[:, 2], label='Iresl')\n",
    "plt.plot(t, sol[:, 3], label='Iresh')\n",
    "plt.plot(t, sol[:, 4], label='Isenl')\n",
    "plt.plot(t, sol[:, 5], label='Isenh')\n",
    "plt.plot(t, np.sum(sol, axis = 1), label='sum')\n",
    "\n",
    "plt.legend(loc='best')\n",
    "plt.xlabel('t')\n",
    "plt.grid()\n",
    "plt.show()\n",
    "\n",
    "plt.figure()\n",
    "plt.plot(t, (sol[:, 2] + sol[:, 3])/(sol[:, 2] + sol[:, 3] + sol[:, 4] + sol[:, 5]))\n",
    "\n",
    "plt.legend(loc='best')\n",
    "plt.xlabel('t')\n",
    "plt.grid()\n",
    "plt.ylim(0,1)\n",
    "plt.show()"
   ]
  },
  {
   "cell_type": "code",
   "execution_count": null,
   "metadata": {},
   "outputs": [],
   "source": []
  },
  {
   "cell_type": "code",
   "execution_count": null,
   "metadata": {},
   "outputs": [],
   "source": [
    "print(sol[:, 2] + sol[:, 3])"
   ]
  },
  {
   "cell_type": "code",
   "execution_count": null,
   "metadata": {},
   "outputs": [],
   "source": []
  }
 ],
 "metadata": {
  "kernelspec": {
   "display_name": "Python 3",
   "language": "python",
   "name": "python3"
  },
  "language_info": {
   "codemirror_mode": {
    "name": "ipython",
    "version": 3
   },
   "file_extension": ".py",
   "mimetype": "text/x-python",
   "name": "python",
   "nbconvert_exporter": "python",
   "pygments_lexer": "ipython3",
   "version": "3.5.0"
  }
 },
 "nbformat": 4,
 "nbformat_minor": 2
}

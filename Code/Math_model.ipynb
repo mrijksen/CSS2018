{
 "cells": [
  {
   "cell_type": "markdown",
   "metadata": {},
   "source": [
    "# Mathematical model of antibiotic resistance N. gonorrhoeae spread"
   ]
  },
  {
   "cell_type": "markdown",
   "metadata": {},
   "source": [
    "### Transmission model\n",
    "* $Sen$ and $Res$ indicate the antibitotic-sensitive and -resistand N. gonorrhoeae strains\n",
    "* $G = \\{L,H\\}$ is the set of low and high sexual activity groups, $i \\in G$\n",
    "* Each sexual activity group $N_i$ consists of:\n",
    "    * susceptible hosts $S_i$\n",
    "    * hosts infected with an antibiotic-sensitive strain, $I_{Sen_i}$\n",
    "    * hosts infected with an antibiotic-resistant strain, $I_{Res_i}$\n",
    "* Hosts are redistributed to either the same of the other sexual activity group at rate $\\gamma$\n",
    "* Hosts leave or enter the population at rate $\\alpha$\n",
    "* Susceptible hosts become infected depending on:\n",
    "    * the partner change rate, $\\pi_i$\n",
    "    * the transmission probability per partnership, $\\beta_{ij}$\n",
    "    * the sexual mixing matrix $\\rho_{ij}$ \n",
    "* Hosts infected with an antibiotic-sensitive strain can:\n",
    "    * recover spontaneously at rate $\\nu$\n",
    "    * receive treatment at rate $\\tau$\n",
    "* Hosts receiving treatment recover at rate $\\tau(1 - \\mu)$\n",
    "* Hosts decelop resistance during treatment with probability $\\mu$\n",
    "* Host infected with an antibiotic-resistance strain can only recover spontaneously at rate $\\nu$\n",
    "    \n",
    "The sexual mixing matrix describes how many partnerships are formed within and outside the host's activity group:\n",
    "\n",
    "$$ \\rho_{ij} = \\epsilon \\delta_{ij} + (1 - \\epsilon) \\frac{\\pi_j N_j}{\\sum_{k \\in G} \\pi_k N_k} $$\n",
    "\n",
    "Here, $\\delta_{ij} = 1$ if $i = j$ and 0 otherwise. Model parameters were estimated from sexual behavior data, calibrated trough model simulation or informed by literature. The parameters can be found on page 5 of the article"
   ]
  },
  {
   "cell_type": "code",
   "execution_count": null,
   "metadata": {
    "collapsed": true
   },
   "outputs": [],
   "source": [
    "import numpy as np\n",
    "import matplotlib.pyplot as plt\n",
    "import scipy as sp\n",
    "from scipy.integrate import odeint\n",
    "\n",
    "%matplotlib notebook"
   ]
  },
  {
   "cell_type": "markdown",
   "metadata": {},
   "source": [
    "### Differential equations"
   ]
  },
  {
   "cell_type": "code",
   "execution_count": null,
   "metadata": {
    "collapsed": true
   },
   "outputs": [],
   "source": [
    "# sexual mixing matrix\n",
    "def SMM(i, j, N, epsilon, pi):\n",
    "    return epsilon * (i == j) + (1 - epsilon) * pi[j] * N[j] / np.sum(pi * N)\n",
    "\n",
    "# change in susceptible hosts in group i\n",
    "def dSidt(S, Ires, Isen, N, pi, i, alpha, beta, gamma, epsilon, phi, mu, D):\n",
    "    nu = (1 - phi) / D\n",
    "    tau = phi / D\n",
    "\n",
    "    dSi = -S[i] * pi[i] * sum([\n",
    "        SMM(i, j, N, epsilon, pi) * beta[i, j] * (Isen[j] + Ires[j]) / N[j]\n",
    "        for j in [0, 1]\n",
    "    ]) + nu * (Isen[i] + Ires[i]) + tau * (1 - mu) * Isen[i] + alpha * (\n",
    "        -S[i] + N[i]) - gamma * S[i] + gamma * N[i] * sum(S)\n",
    "\n",
    "    return dSi\n",
    "\n",
    "# change in infecteds of sensitive strain in group i\n",
    "def dIsenidt(S, Ires, Isen, N, pi, i, alpha, beta, gamma, epsilon, phi, mu, D):\n",
    "    nu = (1 - phi) / D\n",
    "    tau = phi / D\n",
    "\n",
    "    dIseni = S[i] * pi[i] * sum([\n",
    "        SMM(i, j, N, epsilon, pi) * beta[i, j] * Isen[j] / N[j]\n",
    "        for j in [0, 1]\n",
    "    ]) - (nu + tau + alpha + gamma) * Isen[i] + gamma * N[i] * np.sum(Isen)\n",
    "    \n",
    "    return dIseni\n",
    "\n",
    "# change in infecteds of resistant strain in group i\n",
    "def dIresidt(S, Ires, Isen, N, pi, i, alpha, beta, gamma, epsilon, phi, mu, D):\n",
    "    nu = (1 - phi) / D\n",
    "    tau = phi / D\n",
    "\n",
    "    dIresi = S[i] * pi[i] * sum([\n",
    "        SMM(i, j, N, epsilon, pi) * beta[i, j] * Ires[j] / N[j]\n",
    "        for j in [0, 1]\n",
    "    ]) - (nu + alpha + gamma) * Ires[i] + tau * mu * Isen[i] + gamma * N[i] * np.sum(Ires)\n",
    "    return dIresi\n",
    "\n",
    "# full model\n",
    "def model(y, t, N, pi, alpha, beta, gamma, epsilon, phi, mu, D):\n",
    "    dydt = []\n",
    "    S = y[:2]\n",
    "    Ires = y[2:4]\n",
    "    Isen = y[4:]\n",
    "\n",
    "    funcs = [dSidt, dIresidt, dIsenidt]\n",
    "\n",
    "    for func in funcs:\n",
    "        for i in range(2):\n",
    "            dydt.append(\n",
    "                func(S, Ires, Isen, N, pi, i, alpha, beta, gamma, epsilon, phi,\n",
    "                     mu, D))\n",
    "    return dydt"
   ]
  },
  {
   "cell_type": "markdown",
   "metadata": {},
   "source": [
    "### MSM Parameters"
   ]
  },
  {
   "cell_type": "code",
   "execution_count": null,
   "metadata": {},
   "outputs": [],
   "source": [
    "Nh = 5.3e-2\n",
    "N = np.array([1 - Nh, Nh])\n",
    "\n",
    "S = np.array([N[0]*0.995,N[1]*0.90])\n",
    "Ires = np.array([0, 0])\n",
    "Isen = np.array([N[0]*0.005, N[1]*0.1])\n",
    "\n",
    "pi = np.array([0.41, 30.49])\n",
    "\n",
    "\n",
    "BLL = np.array([0.42,0.59,0.77])\n",
    "BHH = np.array([0.25,0.30,0.40])\n",
    "alpha = 1 / 29\n",
    "\n",
    "\n",
    "gamma = 1\n",
    "epsilon = np.array([0.30,0.57,0.80])\n",
    "phi = np.array([0.48,0.64,0.81])\n",
    "mu = 1e-3\n",
    "D = np.array([0.14,0.19,0.25])\n",
    "\n",
    "y0 = np.concatenate((S, Ires, Isen))\n",
    "# y0 /= np.sum(y0)\n",
    "t = np.arange(0,30,0.001)\n",
    "sol_msm = []\n",
    "for i in range(3):\n",
    "    beta = np.array([[BLL[i], 1], [1, BHH[i]]])\n",
    "    beta[0, 1] = beta[1, 0] = np.sqrt(beta[0, 0] * beta[1, 1])\n",
    "    sol_msm.append(odeint(model, y0, t, args=(N, pi, alpha, beta, gamma, epsilon[i], phi[i], mu, D[i])))\n",
    "    \n",
    "sol_msm = np.array(sol_msm)"
   ]
  },
  {
   "cell_type": "markdown",
   "metadata": {},
   "source": [
    "### HMW Parameters"
   ]
  },
  {
   "cell_type": "code",
   "execution_count": null,
   "metadata": {
    "collapsed": true
   },
   "outputs": [],
   "source": [
    "Nh = 6.3e-2\n",
    "N = np.array([1 - Nh, Nh])\n",
    "\n",
    "S = np.array([N[0]*0.995,N[1]*0.90])\n",
    "Ires = np.array([0, 0])\n",
    "Isen = np.array([N[0]*0.005, N[1]*0.1])\n",
    "\n",
    "pi = np.array([0.25, 4.57])\n",
    "\n",
    "\n",
    "alpha = 1 / 29\n",
    "BLL = np.array([0.79,0.87,0.94])\n",
    "BHH = np.array([0.63,0.72,0.81])\n",
    "\n",
    "gamma = 1\n",
    "epsilon = np.array([0.53,0.73,0.89])\n",
    "phi = np.array([0.36,0.50,0.66])\n",
    "mu = 1e-3\n",
    "D = np.array([0.46,0.55,0.66])\n",
    "\n",
    "y0 = np.concatenate((S, Ires, Isen))\n",
    "# y0 /= np.sum(y0)\n",
    "t = np.arange(0,30,0.001)\n",
    "sol_hmw = []\n",
    "for i in range(3):\n",
    "    beta = np.array([[BLL[i], 1], [1, BHH[i]]])\n",
    "    beta[0, 1] = beta[1, 0] = np.sqrt(beta[0, 0] * beta[1, 1])\n",
    "    sol_hmw.append(odeint(model, y0, t, args=(N, pi, alpha, beta, gamma, epsilon[i], phi[i], mu, D[i])))\n",
    "    \n",
    "sol_hmw = np.array(sol_hmw)"
   ]
  },
  {
   "cell_type": "markdown",
   "metadata": {},
   "source": [
    "### Figures and plots"
   ]
  },
  {
   "cell_type": "code",
   "execution_count": null,
   "metadata": {
    "collapsed": true
   },
   "outputs": [],
   "source": [
    "plt.figure()\n",
    "plt.plot(t, sol_msm[1,:, 0], label='Sl')\n",
    "plt.plot(t, sol_msm[1,:, 1], label='Sh')\n",
    "plt.plot(t, sol_msm[1,:, 2], label='Iresl')\n",
    "plt.plot(t, sol_msm[1,:, 3], label='Iresh')\n",
    "plt.plot(t, sol_msm[1,:, 4], label='Isenl')\n",
    "plt.plot(t, sol_msm[1,:, 5], label='Isenh')\n",
    "\n",
    "plt.legend(loc='best')\n",
    "plt.xlabel('t')\n",
    "plt.grid()\n",
    "plt.show()"
   ]
  },
  {
   "cell_type": "code",
   "execution_count": null,
   "metadata": {
    "collapsed": true
   },
   "outputs": [],
   "source": [
    "plt.figure()\n",
    "\n",
    "ratio_sol_msm = (sol_msm[:,:, 2] + sol_msm[:,:, 3])/(sol_msm[:,:, 2] + sol_msm[:,:, 3] + sol_msm[:,:, 4] + sol_msm[:,:, 5])\n",
    "plt.plot(t, ratio_sol_msm[1,:], label = \"MSM\", c = \"g\",linewidth=1)\n",
    "plt.fill_between(t,ratio_sol_msm[0,:], ratio_sol_msm[2,:], alpha=0.5, facecolor = \"g\")\n",
    "\n",
    "ratio_sol_hmw = (sol_hmw[:,:, 2] + sol_hmw[:,:, 3])/(sol_hmw[:,:, 2] + sol_hmw[:,:, 3] + sol_hmw[:,:, 4] + sol_hmw[:,:, 5])\n",
    "plt.plot(t, ratio_sol_hmw[1,:], label = \"HMW\", c = \"b\",linewidth=1)\n",
    "plt.fill_between(t,ratio_sol_hmw[0,:], ratio_sol_hmw[2,:], alpha=0.5, facecolor = \"b\")\n",
    "\n",
    "\n",
    "\n",
    "plt.legend(loc='best')\n",
    "plt.xlabel('t')\n",
    "plt.grid()\n",
    "plt.ylim(0,1)\n",
    "plt.show()"
   ]
  }
 ],
 "metadata": {
  "kernelspec": {
   "display_name": "Python 3",
   "language": "python",
   "name": "python3"
  },
  "language_info": {
   "codemirror_mode": {
    "name": "ipython",
    "version": 3
   },
   "file_extension": ".py",
   "mimetype": "text/x-python",
   "name": "python",
   "nbconvert_exporter": "python",
   "pygments_lexer": "ipython3",
   "version": "3.6.1"
  }
 },
 "nbformat": 4,
 "nbformat_minor": 2
}

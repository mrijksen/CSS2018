{
 "cells": [
  {
   "cell_type": "markdown",
   "metadata": {
    "collapsed": true
   },
   "source": [
    "## Description of mathematical model\n",
    "\n",
    "### Transmission model\n",
    "* $Sen$ and $Res$ indicate the antibitotic-sensitive and -resistand N. gonorrhoeae strains\n",
    "* $G = \\{L,H\\}$ is the set of low and high sexual activity groups, $i \\in G$\n",
    "* Each sexual activity group $N_i$ consists of:\n",
    "    * susceptible hosts $S_i$\n",
    "    * hosts infected with an antibiotic-sensitive strain, $I_{Sen_i}$\n",
    "    * hosts infected with an antibiotic-resistant strain, $I_{Res_i}$\n",
    "* Hosts are redistributed to either the same of the other sexual activity group at rate $\\gamma$\n",
    "* Hosts leave or enter the population at rate $\\alpha$\n",
    "* Susceptible hosts become infected depending on:\n",
    "    * the partner change rate, $\\pi_i$\n",
    "    * the transmission probability per partnership, $\\beta_{ij}$\n",
    "    * the sexual mixing matrix $\\rho_{ij}$ \n",
    "* Hosts infected with an antibiotic-sensitive strain can:\n",
    "    * recover spontaneously at rate $\\nu$\n",
    "    * receive treatment at rate $\\tau$\n",
    "* Hosts receiving treatment recover at rate $\\tau(1 - \\mu)$\n",
    "* Hosts decelop resistance during treatment with probability $\\mu$\n",
    "* Host infected with an antibiotic-resistance strain can only recover spontaneously at rate $\\nu$\n",
    "    \n",
    "The sexual mixing matrix describes how many partnerships are formed within and outside the host's activity group:\n",
    "\n",
    "$$ \\rho_{ij} = \\epsilon \\delta_{ij} + (1 - \\epsilon) \\frac{\\pi_j N_j}{\\sum_{k \\in G} \\pi_k N_k} $$\n",
    "\n",
    "Here, $\\delta_{ij} = 1$ if $i = j$ and 0 otherwise. Model parameters were estimated from sexual behavior data, calibrated trough model simulation or informed by literature. The parameters can be found on page 5 of the article\n"
   ]
  },
  {
   "cell_type": "code",
   "execution_count": null,
   "metadata": {
    "collapsed": true
   },
   "outputs": [],
   "source": []
  }
 ],
 "metadata": {
  "kernelspec": {
   "display_name": "Python 3",
   "language": "python",
   "name": "python3"
  },
  "language_info": {
   "codemirror_mode": {
    "name": "ipython",
    "version": 3
   },
   "file_extension": ".py",
   "mimetype": "text/x-python",
   "name": "python",
   "nbconvert_exporter": "python",
   "pygments_lexer": "ipython3",
   "version": "3.6.1"
  }
 },
 "nbformat": 4,
 "nbformat_minor": 2
}
